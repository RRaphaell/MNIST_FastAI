{
 "cells": [
  {
   "cell_type": "markdown",
   "id": "9d5cd636",
   "metadata": {
    "papermill": {
     "duration": 0.017139,
     "end_time": "2022-03-11T16:22:45.907756",
     "exception": false,
     "start_time": "2022-03-11T16:22:45.890617",
     "status": "completed"
    },
    "tags": []
   },
   "source": [
    "[![mnist.gif](https://i.postimg.cc/W1cwV9JR/mnist.gif)](https://postimg.cc/vcXVLtzX)"
   ]
  },
  {
   "cell_type": "markdown",
   "id": "bd6d9eba-3ce4-492e-9ee3-af17ae74668b",
   "metadata": {},
   "source": [
    "### Table of Contents\n",
    "\n",
    "* [Imports](#Imports)\n",
    "* [Read data](#Read_data)\n",
    "* [Data preparation](#Data_preparation)\n",
    "* [Data loader](#Data_loader)\n",
    "* [Model training](#Model_training)\n",
    "* [Results](#Results)\n",
    "* [Demo](#Demo)\n",
    "* [Save model](#Save_model)"
   ]
  },
  {
   "cell_type": "markdown",
   "id": "12dbba14-728e-4392-8e64-b479b82c7c53",
   "metadata": {
    "tags": []
   },
   "source": [
    "# **Imports** <a class=\"anchor\" id=\"Imports\"></a>"
   ]
  },
  {
   "cell_type": "code",
   "execution_count": 1,
   "id": "8550b5fb",
   "metadata": {
    "_kg_hide-input": true,
    "papermill": {
     "duration": 70.235639,
     "end_time": "2022-03-11T16:23:56.161529",
     "exception": false,
     "start_time": "2022-03-11T16:22:45.925890",
     "status": "completed"
    },
    "tags": []
   },
   "outputs": [],
   "source": [
    "%%capture\n",
    "!pip install --user torch==1.9.0 torchvision==0.10.0"
   ]
  },
  {
   "cell_type": "code",
   "execution_count": 2,
   "id": "75c5c993",
   "metadata": {
    "_cell_guid": "b1076dfc-b9ad-4769-8c92-a6c4dae69d19",
    "_kg_hide-input": true,
    "_uuid": "8f2839f25d086af736a60e9eeb907d3b93b6e0e5",
    "papermill": {
     "duration": 1.741296,
     "end_time": "2022-03-11T16:23:57.919769",
     "exception": false,
     "start_time": "2022-03-11T16:23:56.178473",
     "status": "completed"
    },
    "tags": []
   },
   "outputs": [],
   "source": [
    "import numpy as np # linear algebra\n",
    "import pandas as pd # data processing, CSV file I/O (e.g. pd.read_csv)\n",
    "from tqdm import tqdm # for progress bar\n",
    "from PIL import Image # for create images based on array\n",
    "\n",
    "from fastai.vision.all import *\n",
    "from fastai.metrics import *\n",
    "from fastai.imports import *\n",
    "\n",
    "# ignore warnings\n",
    "%matplotlib inline\n",
    "import warnings\n",
    "warnings.simplefilter('ignore')"
   ]
  },
  {
   "cell_type": "markdown",
   "id": "865e5eb0-154e-41c7-94f6-6087b3bee4de",
   "metadata": {
    "tags": []
   },
   "source": [
    "# **Read data** <a class=\"anchor\" id=\"Read_data\"></a>"
   ]
  },
  {
   "cell_type": "code",
   "execution_count": 3,
   "id": "579c2dcd",
   "metadata": {
    "papermill": {
     "duration": 0.026039,
     "end_time": "2022-03-11T16:23:57.962504",
     "exception": false,
     "start_time": "2022-03-11T16:23:57.936465",
     "status": "completed"
    },
    "tags": []
   },
   "outputs": [
    {
     "data": {
      "text/plain": [
       "device(type='cpu')"
      ]
     },
     "execution_count": 3,
     "metadata": {},
     "output_type": "execute_result"
    }
   ],
   "source": [
    "# we need this to run everything on GPU if it's available\n",
    "\n",
    "device = torch.device(\"cuda\" if torch.cuda.is_available() else \"cpu\")\n",
    "device"
   ]
  },
  {
   "cell_type": "code",
   "execution_count": 4,
   "id": "99a622ad",
   "metadata": {
    "papermill": {
     "duration": 5.043374,
     "end_time": "2022-03-11T16:24:03.064863",
     "exception": false,
     "start_time": "2022-03-11T16:23:58.021489",
     "status": "completed"
    },
    "tags": []
   },
   "outputs": [
    {
     "data": {
      "text/html": [
       "<div>\n",
       "<style scoped>\n",
       "    .dataframe tbody tr th:only-of-type {\n",
       "        vertical-align: middle;\n",
       "    }\n",
       "\n",
       "    .dataframe tbody tr th {\n",
       "        vertical-align: top;\n",
       "    }\n",
       "\n",
       "    .dataframe thead th {\n",
       "        text-align: right;\n",
       "    }\n",
       "</style>\n",
       "<table border=\"1\" class=\"dataframe\">\n",
       "  <thead>\n",
       "    <tr style=\"text-align: right;\">\n",
       "      <th></th>\n",
       "      <th>label</th>\n",
       "      <th>pixel0</th>\n",
       "      <th>pixel1</th>\n",
       "      <th>pixel2</th>\n",
       "      <th>pixel3</th>\n",
       "      <th>pixel4</th>\n",
       "      <th>pixel5</th>\n",
       "      <th>pixel6</th>\n",
       "      <th>pixel7</th>\n",
       "      <th>pixel8</th>\n",
       "      <th>...</th>\n",
       "      <th>pixel774</th>\n",
       "      <th>pixel775</th>\n",
       "      <th>pixel776</th>\n",
       "      <th>pixel777</th>\n",
       "      <th>pixel778</th>\n",
       "      <th>pixel779</th>\n",
       "      <th>pixel780</th>\n",
       "      <th>pixel781</th>\n",
       "      <th>pixel782</th>\n",
       "      <th>pixel783</th>\n",
       "    </tr>\n",
       "  </thead>\n",
       "  <tbody>\n",
       "    <tr>\n",
       "      <th>0</th>\n",
       "      <td>1</td>\n",
       "      <td>0</td>\n",
       "      <td>0</td>\n",
       "      <td>0</td>\n",
       "      <td>0</td>\n",
       "      <td>0</td>\n",
       "      <td>0</td>\n",
       "      <td>0</td>\n",
       "      <td>0</td>\n",
       "      <td>0</td>\n",
       "      <td>...</td>\n",
       "      <td>0</td>\n",
       "      <td>0</td>\n",
       "      <td>0</td>\n",
       "      <td>0</td>\n",
       "      <td>0</td>\n",
       "      <td>0</td>\n",
       "      <td>0</td>\n",
       "      <td>0</td>\n",
       "      <td>0</td>\n",
       "      <td>0</td>\n",
       "    </tr>\n",
       "    <tr>\n",
       "      <th>1</th>\n",
       "      <td>0</td>\n",
       "      <td>0</td>\n",
       "      <td>0</td>\n",
       "      <td>0</td>\n",
       "      <td>0</td>\n",
       "      <td>0</td>\n",
       "      <td>0</td>\n",
       "      <td>0</td>\n",
       "      <td>0</td>\n",
       "      <td>0</td>\n",
       "      <td>...</td>\n",
       "      <td>0</td>\n",
       "      <td>0</td>\n",
       "      <td>0</td>\n",
       "      <td>0</td>\n",
       "      <td>0</td>\n",
       "      <td>0</td>\n",
       "      <td>0</td>\n",
       "      <td>0</td>\n",
       "      <td>0</td>\n",
       "      <td>0</td>\n",
       "    </tr>\n",
       "  </tbody>\n",
       "</table>\n",
       "<p>2 rows × 785 columns</p>\n",
       "</div>"
      ],
      "text/plain": [
       "   label  pixel0  pixel1  pixel2  pixel3  pixel4  pixel5  pixel6  pixel7  \\\n",
       "0      1       0       0       0       0       0       0       0       0   \n",
       "1      0       0       0       0       0       0       0       0       0   \n",
       "\n",
       "   pixel8  ...  pixel774  pixel775  pixel776  pixel777  pixel778  pixel779  \\\n",
       "0       0  ...         0         0         0         0         0         0   \n",
       "1       0  ...         0         0         0         0         0         0   \n",
       "\n",
       "   pixel780  pixel781  pixel782  pixel783  \n",
       "0         0         0         0         0  \n",
       "1         0         0         0         0  \n",
       "\n",
       "[2 rows x 785 columns]"
      ]
     },
     "execution_count": 4,
     "metadata": {},
     "output_type": "execute_result"
    }
   ],
   "source": [
    "# Each image is 28x28\n",
    "# data has 785 columns. The first column is label. The rest of the columns contain the pixel-values of the associated image\n",
    "INPUT_PATH = Path(\".\")\n",
    "\n",
    "train_df = pd.read_csv(INPUT_PATH/\"train.csv\")\n",
    "test_df = pd.read_csv(INPUT_PATH/\"test.csv\")\n",
    "train_df.head(2)"
   ]
  },
  {
   "cell_type": "markdown",
   "id": "27377b57-bd43-4b53-8afe-7d731804be84",
   "metadata": {
    "tags": []
   },
   "source": [
    "# **Data preparation** <a class=\"anchor\" id=\"Data_preparation\"></a>"
   ]
  },
  {
   "cell_type": "code",
   "execution_count": 5,
   "id": "db9297b1",
   "metadata": {
    "papermill": {
     "duration": 0.02588,
     "end_time": "2022-03-11T16:24:03.110601",
     "exception": false,
     "start_time": "2022-03-11T16:24:03.084721",
     "status": "completed"
    },
    "tags": []
   },
   "outputs": [],
   "source": [
    "# fastai dataloaders need images so we need to create images with appropriate folders from dataframe\n",
    "# create empty directories for digit images\n",
    "\n",
    "TRAINING_DATA_PATH = Path('./train')\n",
    "TESTING_DATA_PATH = Path('./test')\n",
    "for path in [TRAINING_DATA_PATH, TESTING_DATA_PATH]:\n",
    "    for i in range(10):\n",
    "        p = path / str(i)\n",
    "        p.mkdir(parents=True, exist_ok=True)"
   ]
  },
  {
   "cell_type": "code",
   "execution_count": 6,
   "id": "36fcdb57",
   "metadata": {
    "papermill": {
     "duration": 27.581176,
     "end_time": "2022-03-11T16:24:30.709684",
     "exception": false,
     "start_time": "2022-03-11T16:24:03.128508",
     "status": "completed"
    },
    "tags": []
   },
   "outputs": [
    {
     "name": "stderr",
     "output_type": "stream",
     "text": [
      "42000it [00:11, 3814.01it/s]\n",
      "28000it [00:05, 4774.19it/s]\n"
     ]
    }
   ],
   "source": [
    "def save_img(filepath, img_array):\n",
    "    img = img_array.reshape(28,28)\n",
    "    img = img.astype(np.uint8())\n",
    "    img = Image.fromarray(img)\n",
    "    img.save(filepath)\n",
    "    \n",
    "# save train images\n",
    "for i, data in tqdm(train_df.iterrows()):\n",
    "    label, data = data[0], data[1:]\n",
    "    img_path = TRAINING_DATA_PATH/str(label)/f\"{i}.png\"\n",
    "    save_img(img_path, data.values)\n",
    "    \n",
    "# save test images    \n",
    "for i, data in tqdm(test_df.iterrows()):\n",
    "    img_path = TESTING_DATA_PATH/str(label)/f\"{i}.png\"\n",
    "    save_img(img_path, data.values)"
   ]
  },
  {
   "cell_type": "markdown",
   "id": "fb898576-1050-4197-8f2e-ed671110b80b",
   "metadata": {
    "tags": []
   },
   "source": [
    "# **Data loader** <a class=\"anchor\" id=\"Data_loader\"></a>"
   ]
  },
  {
   "cell_type": "code",
   "execution_count": 7,
   "id": "d209b006",
   "metadata": {
    "papermill": {
     "duration": 6.046819,
     "end_time": "2022-03-11T16:24:36.854557",
     "exception": false,
     "start_time": "2022-03-11T16:24:30.807738",
     "status": "completed"
    },
    "tags": []
   },
   "outputs": [],
   "source": [
    "dblock = DataBlock(blocks=(ImageBlock, CategoryBlock),\n",
    "                   get_items=get_image_files,\n",
    "                   splitter=RandomSplitter(valid_pct=0.2, seed=42),\n",
    "                   get_y=parent_label,\n",
    "                   batch_tfms=aug_transforms(do_flip=False, mult=2))"
   ]
  },
  {
   "cell_type": "code",
   "execution_count": 8,
   "id": "20222b17-b9c5-43cd-bb13-85ed966e88c6",
   "metadata": {},
   "outputs": [
    {
     "data": {
      "image/png": "[encoded data removed]",
      "text/plain": [
       "<Figure size 864x432 with 10 Axes>"
      ]
     },
     "metadata": {
      "needs_background": "light"
     },
     "output_type": "display_data"
    }
   ],
   "source": [
    "dls = dblock.dataloaders(\"train\", batch_size=64, num_workers=2, device=device)\n",
    "dls.show_batch(max_n=10, nrows=1, figsize=(12,6))"
   ]
  },
  {
   "cell_type": "markdown",
   "id": "a0a0bd64-3353-415e-90e5-454372f043f8",
   "metadata": {
    "tags": []
   },
   "source": [
    "# **Model training** <a class=\"anchor\" id=\"Model_training\"></a>"
   ]
  },
  {
   "cell_type": "code",
   "execution_count": 9,
   "id": "6ffddf54",
   "metadata": {
    "papermill": {
     "duration": 16.24415,
     "end_time": "2022-03-11T16:24:53.203344",
     "exception": false,
     "start_time": "2022-03-11T16:24:36.959194",
     "status": "completed"
    },
    "tags": []
   },
   "outputs": [
    {
     "data": {
      "text/html": [],
      "text/plain": [
       "<IPython.core.display.HTML object>"
      ]
     },
     "metadata": {},
     "output_type": "display_data"
    },
    {
     "data": {
      "text/plain": [
       "SuggestedLRs(valley=0.00363078061491251)"
      ]
     },
     "execution_count": 9,
     "metadata": {},
     "output_type": "execute_result"
    },
    {
     "data": {
      "image/png": "[encoded data removed]",
      "text/plain": [
       "<Figure size 432x288 with 1 Axes>"
      ]
     },
     "metadata": {
      "needs_background": "light"
     },
     "output_type": "display_data"
    }
   ],
   "source": [
    "learner = cnn_learner(dls, resnet34, metrics=accuracy)\n",
    "learner.lr_find()"
   ]
  },
  {
   "cell_type": "code",
   "execution_count": 10,
   "id": "abdaa73e",
   "metadata": {
    "papermill": {
     "duration": 1802.110944,
     "end_time": "2022-03-11T16:54:55.632438",
     "exception": false,
     "start_time": "2022-03-11T16:24:53.521494",
     "status": "completed"
    },
    "tags": []
   },
   "outputs": [
    {
     "data": {
      "text/html": [
       "<table border=\"1\" class=\"dataframe\">\n",
       "  <thead>\n",
       "    <tr style=\"text-align: left;\">\n",
       "      <th>epoch</th>\n",
       "      <th>train_loss</th>\n",
       "      <th>valid_loss</th>\n",
       "      <th>accuracy</th>\n",
       "      <th>time</th>\n",
       "    </tr>\n",
       "  </thead>\n",
       "  <tbody>\n",
       "    <tr>\n",
       "      <td>0</td>\n",
       "      <td>0.910294</td>\n",
       "      <td>0.414801</td>\n",
       "      <td>0.868095</td>\n",
       "      <td>01:53</td>\n",
       "    </tr>\n",
       "  </tbody>\n",
       "</table>"
      ],
      "text/plain": [
       "<IPython.core.display.HTML object>"
      ]
     },
     "metadata": {},
     "output_type": "display_data"
    },
    {
     "data": {
      "text/html": [
       "<table border=\"1\" class=\"dataframe\">\n",
       "  <thead>\n",
       "    <tr style=\"text-align: left;\">\n",
       "      <th>epoch</th>\n",
       "      <th>train_loss</th>\n",
       "      <th>valid_loss</th>\n",
       "      <th>accuracy</th>\n",
       "      <th>time</th>\n",
       "    </tr>\n",
       "  </thead>\n",
       "  <tbody>\n",
       "    <tr>\n",
       "      <td>0</td>\n",
       "      <td>0.230164</td>\n",
       "      <td>0.080233</td>\n",
       "      <td>0.976190</td>\n",
       "      <td>04:25</td>\n",
       "    </tr>\n",
       "    <tr>\n",
       "      <td>1</td>\n",
       "      <td>0.188627</td>\n",
       "      <td>0.065893</td>\n",
       "      <td>0.980357</td>\n",
       "      <td>05:08</td>\n",
       "    </tr>\n",
       "    <tr>\n",
       "      <td>2</td>\n",
       "      <td>0.153552</td>\n",
       "      <td>0.060336</td>\n",
       "      <td>0.981191</td>\n",
       "      <td>04:27</td>\n",
       "    </tr>\n",
       "    <tr>\n",
       "      <td>3</td>\n",
       "      <td>0.121823</td>\n",
       "      <td>0.058589</td>\n",
       "      <td>0.982381</td>\n",
       "      <td>04:13</td>\n",
       "    </tr>\n",
       "    <tr>\n",
       "      <td>4</td>\n",
       "      <td>0.127028</td>\n",
       "      <td>0.057834</td>\n",
       "      <td>0.982619</td>\n",
       "      <td>03:57</td>\n",
       "    </tr>\n",
       "    <tr>\n",
       "      <td>5</td>\n",
       "      <td>0.103520</td>\n",
       "      <td>0.040299</td>\n",
       "      <td>0.988690</td>\n",
       "      <td>04:08</td>\n",
       "    </tr>\n",
       "    <tr>\n",
       "      <td>6</td>\n",
       "      <td>0.104553</td>\n",
       "      <td>0.050251</td>\n",
       "      <td>0.986905</td>\n",
       "      <td>03:45</td>\n",
       "    </tr>\n",
       "    <tr>\n",
       "      <td>7</td>\n",
       "      <td>0.103910</td>\n",
       "      <td>0.054105</td>\n",
       "      <td>0.983571</td>\n",
       "      <td>03:33</td>\n",
       "    </tr>\n",
       "    <tr>\n",
       "      <td>8</td>\n",
       "      <td>0.087559</td>\n",
       "      <td>0.045370</td>\n",
       "      <td>0.987500</td>\n",
       "      <td>04:00</td>\n",
       "    </tr>\n",
       "    <tr>\n",
       "      <td>9</td>\n",
       "      <td>0.081997</td>\n",
       "      <td>0.034505</td>\n",
       "      <td>0.987857</td>\n",
       "      <td>03:59</td>\n",
       "    </tr>\n",
       "    <tr>\n",
       "      <td>10</td>\n",
       "      <td>0.067370</td>\n",
       "      <td>0.036203</td>\n",
       "      <td>0.989167</td>\n",
       "      <td>05:23</td>\n",
       "    </tr>\n",
       "    <tr>\n",
       "      <td>11</td>\n",
       "      <td>0.067808</td>\n",
       "      <td>0.032003</td>\n",
       "      <td>0.990952</td>\n",
       "      <td>04:26</td>\n",
       "    </tr>\n",
       "    <tr>\n",
       "      <td>12</td>\n",
       "      <td>0.044712</td>\n",
       "      <td>0.038366</td>\n",
       "      <td>0.989286</td>\n",
       "      <td>04:27</td>\n",
       "    </tr>\n",
       "    <tr>\n",
       "      <td>13</td>\n",
       "      <td>0.059195</td>\n",
       "      <td>0.038356</td>\n",
       "      <td>0.987262</td>\n",
       "      <td>03:43</td>\n",
       "    </tr>\n",
       "    <tr>\n",
       "      <td>14</td>\n",
       "      <td>0.049046</td>\n",
       "      <td>0.024183</td>\n",
       "      <td>0.992500</td>\n",
       "      <td>03:35</td>\n",
       "    </tr>\n",
       "    <tr>\n",
       "      <td>15</td>\n",
       "      <td>0.045864</td>\n",
       "      <td>0.055288</td>\n",
       "      <td>0.984405</td>\n",
       "      <td>03:36</td>\n",
       "    </tr>\n",
       "    <tr>\n",
       "      <td>16</td>\n",
       "      <td>0.050118</td>\n",
       "      <td>0.025486</td>\n",
       "      <td>0.991786</td>\n",
       "      <td>03:37</td>\n",
       "    </tr>\n",
       "    <tr>\n",
       "      <td>17</td>\n",
       "      <td>0.044635</td>\n",
       "      <td>0.023557</td>\n",
       "      <td>0.993452</td>\n",
       "      <td>03:37</td>\n",
       "    </tr>\n",
       "    <tr>\n",
       "      <td>18</td>\n",
       "      <td>0.040163</td>\n",
       "      <td>0.022426</td>\n",
       "      <td>0.992857</td>\n",
       "      <td>03:11</td>\n",
       "    </tr>\n",
       "    <tr>\n",
       "      <td>19</td>\n",
       "      <td>0.038785</td>\n",
       "      <td>0.023010</td>\n",
       "      <td>0.992738</td>\n",
       "      <td>03:16</td>\n",
       "    </tr>\n",
       "    <tr>\n",
       "      <td>20</td>\n",
       "      <td>0.029987</td>\n",
       "      <td>0.021704</td>\n",
       "      <td>0.993452</td>\n",
       "      <td>03:17</td>\n",
       "    </tr>\n",
       "    <tr>\n",
       "      <td>21</td>\n",
       "      <td>0.029316</td>\n",
       "      <td>0.020667</td>\n",
       "      <td>0.993929</td>\n",
       "      <td>04:03</td>\n",
       "    </tr>\n",
       "    <tr>\n",
       "      <td>22</td>\n",
       "      <td>0.027731</td>\n",
       "      <td>0.021043</td>\n",
       "      <td>0.994048</td>\n",
       "      <td>03:34</td>\n",
       "    </tr>\n",
       "    <tr>\n",
       "      <td>23</td>\n",
       "      <td>0.029999</td>\n",
       "      <td>0.020510</td>\n",
       "      <td>0.993690</td>\n",
       "      <td>03:32</td>\n",
       "    </tr>\n",
       "    <tr>\n",
       "      <td>24</td>\n",
       "      <td>0.024410</td>\n",
       "      <td>0.020521</td>\n",
       "      <td>0.994048</td>\n",
       "      <td>03:34</td>\n",
       "    </tr>\n",
       "    <tr>\n",
       "      <td>25</td>\n",
       "      <td>0.020132</td>\n",
       "      <td>0.019183</td>\n",
       "      <td>0.995119</td>\n",
       "      <td>03:15</td>\n",
       "    </tr>\n",
       "    <tr>\n",
       "      <td>26</td>\n",
       "      <td>0.020098</td>\n",
       "      <td>0.019557</td>\n",
       "      <td>0.994286</td>\n",
       "      <td>03:13</td>\n",
       "    </tr>\n",
       "    <tr>\n",
       "      <td>27</td>\n",
       "      <td>0.019664</td>\n",
       "      <td>0.020023</td>\n",
       "      <td>0.994762</td>\n",
       "      <td>03:10</td>\n",
       "    </tr>\n",
       "    <tr>\n",
       "      <td>28</td>\n",
       "      <td>0.020172</td>\n",
       "      <td>0.019221</td>\n",
       "      <td>0.994405</td>\n",
       "      <td>03:10</td>\n",
       "    </tr>\n",
       "    <tr>\n",
       "      <td>29</td>\n",
       "      <td>0.017756</td>\n",
       "      <td>0.019230</td>\n",
       "      <td>0.994762</td>\n",
       "      <td>03:20</td>\n",
       "    </tr>\n",
       "  </tbody>\n",
       "</table>"
      ],
      "text/plain": [
       "<IPython.core.display.HTML object>"
      ]
     },
     "metadata": {},
     "output_type": "display_data"
    }
   ],
   "source": [
    "learner.fine_tune(30, base_lr=0.01)"
   ]
  },
  {
   "cell_type": "markdown",
   "id": "e7d117dc-1285-45bc-b049-adc3c69e774f",
   "metadata": {
    "tags": []
   },
   "source": [
    "# **Results** <a class=\"anchor\" id=\"Results\"></a>"
   ]
  },
  {
   "cell_type": "code",
   "execution_count": 11,
   "id": "5a6a79e0",
   "metadata": {
    "papermill": {
     "duration": 8.906543,
     "end_time": "2022-03-11T16:55:04.644447",
     "exception": false,
     "start_time": "2022-03-11T16:54:55.737904",
     "status": "completed"
    },
    "tags": []
   },
   "outputs": [
    {
     "data": {
      "text/html": [],
      "text/plain": [
       "<IPython.core.display.HTML object>"
      ]
     },
     "metadata": {},
     "output_type": "display_data"
    },
    {
     "data": {
      "text/html": [],
      "text/plain": [
       "<IPython.core.display.HTML object>"
      ]
     },
     "metadata": {},
     "output_type": "display_data"
    },
    {
     "data": {
      "text/html": [],
      "text/plain": [
       "<IPython.core.display.HTML object>"
      ]
     },
     "metadata": {},
     "output_type": "display_data"
    },
    {
     "data": {
      "text/plain": [
       "[('9', '4', 5)]"
      ]
     },
     "execution_count": 11,
     "metadata": {},
     "output_type": "execute_result"
    },
    {
     "data": {
      "image/png": "[encoded data removed]",
      "text/plain": [
       "<Figure size 480x480 with 1 Axes>"
      ]
     },
     "metadata": {
      "needs_background": "light"
     },
     "output_type": "display_data"
    }
   ],
   "source": [
    "interp = ClassificationInterpretation.from_learner(learner)\n",
    "interp.plot_confusion_matrix(figsize=(8,8), dpi=60)\n",
    "interp.most_confused(min_val=5)"
   ]
  },
  {
   "cell_type": "code",
   "execution_count": 12,
   "id": "0af0ed57",
   "metadata": {
    "papermill": {
     "duration": 0.663332,
     "end_time": "2022-03-11T16:55:05.502194",
     "exception": false,
     "start_time": "2022-03-11T16:55:04.838862",
     "status": "completed"
    },
    "tags": []
   },
   "outputs": [
    {
     "data": {
      "text/html": [],
      "text/plain": [
       "<IPython.core.display.HTML object>"
      ]
     },
     "metadata": {},
     "output_type": "display_data"
    },
    {
     "data": {
      "image/png": "[encoded data removed]",
      "text/plain": [
       "<Figure size 864x432 with 10 Axes>"
      ]
     },
     "metadata": {
      "needs_background": "light"
     },
     "output_type": "display_data"
    }
   ],
   "source": [
    "learner.show_results(max_n=10, nrows=1, figsize=(12,6))"
   ]
  },
  {
   "cell_type": "markdown",
   "id": "9a4330c9",
   "metadata": {
    "papermill": {
     "duration": 0.106699,
     "end_time": "2022-03-11T16:55:05.716430",
     "exception": false,
     "start_time": "2022-03-11T16:55:05.609731",
     "status": "completed"
    },
    "tags": []
   },
   "source": [
    "# **Demo** <a class=\"anchor\" id=\"Demo\"></a>"
   ]
  },
  {
   "cell_type": "code",
   "execution_count": null,
   "id": "39f75e43",
   "metadata": {
    "_kg_hide-input": true,
    "papermill": {
     "duration": 0.114053,
     "end_time": "2022-03-11T16:55:05.937101",
     "exception": false,
     "start_time": "2022-03-11T16:55:05.823048",
     "status": "completed"
    },
    "tags": []
   },
   "outputs": [],
   "source": [
    "%%capture\n",
    "\n",
    "!pip install gradio\n",
    "import gradio as gr"
   ]
  },
  {
   "cell_type": "code",
   "execution_count": null,
   "id": "b5b52b13",
   "metadata": {
    "_kg_hide-input": true,
    "papermill": {
     "duration": 0.114592,
     "end_time": "2022-03-11T16:55:06.159998",
     "exception": false,
     "start_time": "2022-03-11T16:55:06.045406",
     "status": "completed"
    },
    "tags": []
   },
   "outputs": [],
   "source": [
    "labels = learner.dls.vocab\n",
    "\n",
    "def classify(img):\n",
    "    pred, pred_idx, probs = learner.predict(img)\n",
    "    return {labels[i]: float(probs[i]) for i in range(len(labels))}\n",
    "\n",
    "\n",
    "interface = gr.Interface(fn=classify, inputs=\"sketchpad\", outputs=gr.outputs.Label(num_top_classes=5), live=True)\n",
    "interface.launch(debug=True, share=True)"
   ]
  },
  {
   "cell_type": "markdown",
   "id": "f549a87e",
   "metadata": {
    "papermill": {
     "duration": 0.107086,
     "end_time": "2022-03-11T16:55:07.301185",
     "exception": false,
     "start_time": "2022-03-11T16:55:07.194099",
     "status": "completed"
    },
    "tags": []
   },
   "source": [
    "# **Save model** <a class=\"anchor\" id=\"Save_model\"></a>"
   ]
  },
  {
   "cell_type": "code",
   "execution_count": 19,
   "id": "a03c4cb9",
   "metadata": {
    "_kg_hide-input": true,
    "execution": {
     "iopub.execute_input": "2022-03-11T16:55:07.542133Z",
     "iopub.status.busy": "2022-03-11T16:55:07.534151Z",
     "iopub.status.idle": "2022-03-11T16:55:07.927988Z",
     "shell.execute_reply": "2022-03-11T16:55:07.927497Z"
    },
    "papermill": {
     "duration": 0.519409,
     "end_time": "2022-03-11T16:55:07.928166",
     "exception": false,
     "start_time": "2022-03-11T16:55:07.408757",
     "status": "completed"
    },
    "tags": []
   },
   "outputs": [],
   "source": [
    "learner.export()"
   ]
  },
  {
   "cell_type": "code",
   "execution_count": 20,
   "id": "da4b3af6",
   "metadata": {
    "execution": {
     "iopub.execute_input": "2022-03-11T16:55:08.151903Z",
     "iopub.status.busy": "2022-03-11T16:55:08.151124Z",
     "iopub.status.idle": "2022-03-11T16:55:11.164237Z",
     "shell.execute_reply": "2022-03-11T16:55:11.164679Z"
    },
    "papermill": {
     "duration": 3.124777,
     "end_time": "2022-03-11T16:55:11.164836",
     "exception": false,
     "start_time": "2022-03-11T16:55:08.040059",
     "status": "completed"
    },
    "tags": []
   },
   "outputs": [],
   "source": [
    "# clean temporary folder\n",
    "!rm -r \"./train\"\n",
    "!rm -r \"./test\""
   ]
  }
 ],
 "metadata": {
  "kernelspec": {
   "display_name": "Python 3 (ipykernel)",
   "language": "python",
   "name": "python3"
  },
  "language_info": {
   "codemirror_mode": {
    "name": "ipython",
    "version": 3
   },
   "file_extension": ".py",
   "mimetype": "text/x-python",
   "name": "python",
   "nbconvert_exporter": "python",
   "pygments_lexer": "ipython3",
   "version": "3.8.0"
  },
  "papermill": {
   "default_parameters": {},
   "duration": 1954.440008,
   "end_time": "2022-03-11T16:55:12.388589",
   "environment_variables": {},
   "exception": null,
   "input_path": "__notebook__.ipynb",
   "output_path": "__notebook__.ipynb",
   "parameters": {},
   "start_time": "2022-03-11T16:22:37.948581",
   "version": "2.3.3"
  },
  "widgets": {
   "application/vnd.jupyter.widget-state+json": {
    "state": {
     "0453370687e24ffc9525668efe5478da": {
      "model_module": "@jupyter-widgets/base",
      "model_module_version": "1.2.0",
      "model_name": "LayoutModel",
      "state": {
       "_model_module": "@jupyter-widgets/base",
       "_model_module_version": "1.2.0",
       "_model_name": "LayoutModel",
       "_view_count": null,
       "_view_module": "@jupyter-widgets/base",
       "_view_module_version": "1.2.0",
       "_view_name": "LayoutView",
       "align_content": null,
       "align_items": null,
       "align_self": null,
       "border": null,
       "bottom": null,
       "display": null,
       "flex": null,
       "flex_flow": null,
       "grid_area": null,
       "grid_auto_columns": null,
       "grid_auto_flow": null,
       "grid_auto_rows": null,
       "grid_column": null,
       "grid_gap": null,
       "grid_row": null,
       "grid_template_areas": null,
       "grid_template_columns": null,
       "grid_template_rows": null,
       "height": null,
       "justify_content": null,
       "justify_items": null,
       "left": null,
       "margin": null,
       "max_height": null,
       "max_width": null,
       "min_height": null,
       "min_width": null,
       "object_fit": null,
       "object_position": null,
       "order": null,
       "overflow": null,
       "overflow_x": null,
       "overflow_y": null,
       "padding": null,
       "right": null,
       "top": null,
       "visibility": null,
       "width": null
      }
     },
     "0a896c5124854703aa6a51acb6d35326": {
      "model_module": "@jupyter-widgets/controls",
      "model_module_version": "1.5.0",
      "model_name": "FloatProgressModel",
      "state": {
       "_dom_classes": [],
       "_model_module": "@jupyter-widgets/controls",
       "_model_module_version": "1.5.0",
       "_model_name": "FloatProgressModel",
       "_view_count": null,
       "_view_module": "@jupyter-widgets/controls",
       "_view_module_version": "1.5.0",
       "_view_name": "ProgressView",
       "bar_style": "success",
       "description": "",
       "description_tooltip": null,
       "layout": "IPY_MODEL_ba63a7570e2b40778fab8b5c6741a01e",
       "max": 87319819,
       "min": 0,
       "orientation": "horizontal",
       "style": "IPY_MODEL_71b1d4e1b797496e98d04b9b42c7def7",
       "value": 87319819
      }
     },
     "4e5943913df94adb917a384fe413ea92": {
      "model_module": "@jupyter-widgets/controls",
      "model_module_version": "1.5.0",
      "model_name": "HBoxModel",
      "state": {
       "_dom_classes": [],
       "_model_module": "@jupyter-widgets/controls",
       "_model_module_version": "1.5.0",
       "_model_name": "HBoxModel",
       "_view_count": null,
       "_view_module": "@jupyter-widgets/controls",
       "_view_module_version": "1.5.0",
       "_view_name": "HBoxView",
       "box_style": "",
       "children": [
        "IPY_MODEL_df86d3a8d3ab4e84ac6a8228665d7ffa",
        "IPY_MODEL_0a896c5124854703aa6a51acb6d35326",
        "IPY_MODEL_e59711f9da9a462e917c37db4a2a627c"
       ],
       "layout": "IPY_MODEL_5a640e7c50fd40fb85624b5001c42775"
      }
     },
     "5a640e7c50fd40fb85624b5001c42775": {
      "model_module": "@jupyter-widgets/base",
      "model_module_version": "1.2.0",
      "model_name": "LayoutModel",
      "state": {
       "_model_module": "@jupyter-widgets/base",
       "_model_module_version": "1.2.0",
       "_model_name": "LayoutModel",
       "_view_count": null,
       "_view_module": "@jupyter-widgets/base",
       "_view_module_version": "1.2.0",
       "_view_name": "LayoutView",
       "align_content": null,
       "align_items": null,
       "align_self": null,
       "border": null,
       "bottom": null,
       "display": null,
       "flex": null,
       "flex_flow": null,
       "grid_area": null,
       "grid_auto_columns": null,
       "grid_auto_flow": null,
       "grid_auto_rows": null,
       "grid_column": null,
       "grid_gap": null,
       "grid_row": null,
       "grid_template_areas": null,
       "grid_template_columns": null,
       "grid_template_rows": null,
       "height": null,
       "justify_content": null,
       "justify_items": null,
       "left": null,
       "margin": null,
       "max_height": null,
       "max_width": null,
       "min_height": null,
       "min_width": null,
       "object_fit": null,
       "object_position": null,
       "order": null,
       "overflow": null,
       "overflow_x": null,
       "overflow_y": null,
       "padding": null,
       "right": null,
       "top": null,
       "visibility": null,
       "width": null
      }
     },
     "71b1d4e1b797496e98d04b9b42c7def7": {
      "model_module": "@jupyter-widgets/controls",
      "model_module_version": "1.5.0",
      "model_name": "ProgressStyleModel",
      "state": {
       "_model_module": "@jupyter-widgets/controls",
       "_model_module_version": "1.5.0",
       "_model_name": "ProgressStyleModel",
       "_view_count": null,
       "_view_module": "@jupyter-widgets/base",
       "_view_module_version": "1.2.0",
       "_view_name": "StyleView",
       "bar_color": null,
       "description_width": ""
      }
     },
     "808485758f2f44eabdbddc48458ceb01": {
      "model_module": "@jupyter-widgets/controls",
      "model_module_version": "1.5.0",
      "model_name": "DescriptionStyleModel",
      "state": {
       "_model_module": "@jupyter-widgets/controls",
       "_model_module_version": "1.5.0",
       "_model_name": "DescriptionStyleModel",
       "_view_count": null,
       "_view_module": "@jupyter-widgets/base",
       "_view_module_version": "1.2.0",
       "_view_name": "StyleView",
       "description_width": ""
      }
     },
     "ba63a7570e2b40778fab8b5c6741a01e": {
      "model_module": "@jupyter-widgets/base",
      "model_module_version": "1.2.0",
      "model_name": "LayoutModel",
      "state": {
       "_model_module": "@jupyter-widgets/base",
       "_model_module_version": "1.2.0",
       "_model_name": "LayoutModel",
       "_view_count": null,
       "_view_module": "@jupyter-widgets/base",
       "_view_module_version": "1.2.0",
       "_view_name": "LayoutView",
       "align_content": null,
       "align_items": null,
       "align_self": null,
       "border": null,
       "bottom": null,
       "display": null,
       "flex": null,
       "flex_flow": null,
       "grid_area": null,
       "grid_auto_columns": null,
       "grid_auto_flow": null,
       "grid_auto_rows": null,
       "grid_column": null,
       "grid_gap": null,
       "grid_row": null,
       "grid_template_areas": null,
       "grid_template_columns": null,
       "grid_template_rows": null,
       "height": null,
       "justify_content": null,
       "justify_items": null,
       "left": null,
       "margin": null,
       "max_height": null,
       "max_width": null,
       "min_height": null,
       "min_width": null,
       "object_fit": null,
       "object_position": null,
       "order": null,
       "overflow": null,
       "overflow_x": null,
       "overflow_y": null,
       "padding": null,
       "right": null,
       "top": null,
       "visibility": null,
       "width": null
      }
     },
     "c45ee01a6321489997a32a4acfb52e0b": {
      "model_module": "@jupyter-widgets/controls",
      "model_module_version": "1.5.0",
      "model_name": "DescriptionStyleModel",
      "state": {
       "_model_module": "@jupyter-widgets/controls",
       "_model_module_version": "1.5.0",
       "_model_name": "DescriptionStyleModel",
       "_view_count": null,
       "_view_module": "@jupyter-widgets/base",
       "_view_module_version": "1.2.0",
       "_view_name": "StyleView",
       "description_width": ""
      }
     },
     "de05507b639e4d548737a4ce82ba11b9": {
      "model_module": "@jupyter-widgets/base",
      "model_module_version": "1.2.0",
      "model_name": "LayoutModel",
      "state": {
       "_model_module": "@jupyter-widgets/base",
       "_model_module_version": "1.2.0",
       "_model_name": "LayoutModel",
       "_view_count": null,
       "_view_module": "@jupyter-widgets/base",
       "_view_module_version": "1.2.0",
       "_view_name": "LayoutView",
       "align_content": null,
       "align_items": null,
       "align_self": null,
       "border": null,
       "bottom": null,
       "display": null,
       "flex": null,
       "flex_flow": null,
       "grid_area": null,
       "grid_auto_columns": null,
       "grid_auto_flow": null,
       "grid_auto_rows": null,
       "grid_column": null,
       "grid_gap": null,
       "grid_row": null,
       "grid_template_areas": null,
       "grid_template_columns": null,
       "grid_template_rows": null,
       "height": null,
       "justify_content": null,
       "justify_items": null,
       "left": null,
       "margin": null,
       "max_height": null,
       "max_width": null,
       "min_height": null,
       "min_width": null,
       "object_fit": null,
       "object_position": null,
       "order": null,
       "overflow": null,
       "overflow_x": null,
       "overflow_y": null,
       "padding": null,
       "right": null,
       "top": null,
       "visibility": null,
       "width": null
      }
     },
     "df86d3a8d3ab4e84ac6a8228665d7ffa": {
      "model_module": "@jupyter-widgets/controls",
      "model_module_version": "1.5.0",
      "model_name": "HTMLModel",
      "state": {
       "_dom_classes": [],
       "_model_module": "@jupyter-widgets/controls",
       "_model_module_version": "1.5.0",
       "_model_name": "HTMLModel",
       "_view_count": null,
       "_view_module": "@jupyter-widgets/controls",
       "_view_module_version": "1.5.0",
       "_view_name": "HTMLView",
       "description": "",
       "description_tooltip": null,
       "layout": "IPY_MODEL_0453370687e24ffc9525668efe5478da",
       "placeholder": "​",
       "style": "IPY_MODEL_c45ee01a6321489997a32a4acfb52e0b",
       "value": "100%"
      }
     },
     "e59711f9da9a462e917c37db4a2a627c": {
      "model_module": "@jupyter-widgets/controls",
      "model_module_version": "1.5.0",
      "model_name": "HTMLModel",
      "state": {
       "_dom_classes": [],
       "_model_module": "@jupyter-widgets/controls",
       "_model_module_version": "1.5.0",
       "_model_name": "HTMLModel",
       "_view_count": null,
       "_view_module": "@jupyter-widgets/controls",
       "_view_module_version": "1.5.0",
       "_view_name": "HTMLView",
       "description": "",
       "description_tooltip": null,
       "layout": "IPY_MODEL_de05507b639e4d548737a4ce82ba11b9",
       "placeholder": "​",
       "style": "IPY_MODEL_808485758f2f44eabdbddc48458ceb01",
       "value": " 83.3M/83.3M [00:05&lt;00:00, 36.2MB/s]"
      }
     }
    },
    "version_major": 2,
    "version_minor": 0
   }
  }
 },
 "nbformat": 4,
 "nbformat_minor": 5
}
